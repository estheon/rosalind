{
 "cells": [
  {
   "cell_type": "code",
   "execution_count": 1,
   "metadata": {},
   "outputs": [],
   "source": [
    "# Test that input works\n",
    "input_text = open(\"CONS_sampleinput.txt\",\"r\")\n",
    "raw_list = input_text.readlines()\n",
    "print(raw_list)"
   ]
  },
  {
   "cell_type": "code",
   "execution_count": 2,
   "metadata": {},
   "outputs": [],
   "source": [
    "# Drop the FASTA IDs, we don't need them. And strip the newline character off too\n",
    "strands = []\n",
    "for i in range(1, len(raw_list), 2): # 1 is the starting index, 2 is the increment. so we're only using odd indices here\n",
    "    strands.append(raw_list[i].rstrip(\"\\n\"))\n",
    "print(strands)"
   ]
  },
  {
   "cell_type": "code",
   "execution_count": 3,
   "metadata": {},
   "outputs": [
    {
     "name": "stdout",
     "output_type": "stream",
     "text": [
      "[['A', 'T', 'C', 'C', 'A', 'G', 'C', 'T'], ['G', 'G', 'G', 'C', 'A', 'A', 'C', 'T'], ['A', 'T', 'G', 'G', 'A', 'T', 'C', 'T'], ['A', 'A', 'G', 'C', 'A', 'A', 'C', 'C'], ['T', 'T', 'G', 'G', 'A', 'A', 'C', 'T'], ['A', 'T', 'G', 'C', 'C', 'A', 'T', 'T'], ['A', 'T', 'G', 'G', 'C', 'A', 'C', 'T']]\n"
     ]
    }
   ],
   "source": [
    "# Turn every sequence into a list. \n",
    "sequences = []\n",
    "for i in range(len(strands)):\n",
    "    sequences.append(list((strands[i])))\n",
    "print(sequences)"
   ]
  },
  {
   "cell_type": "code",
   "execution_count": 4,
   "metadata": {},
   "outputs": [
    {
     "name": "stdout",
     "output_type": "stream",
     "text": [
      "[['A' 'G' 'A' 'A' 'T' 'A' 'A']\n",
      " ['T' 'G' 'T' 'A' 'T' 'T' 'T']\n",
      " ['C' 'G' 'G' 'G' 'G' 'G' 'G']\n",
      " ['C' 'C' 'G' 'C' 'G' 'C' 'G']\n",
      " ['A' 'A' 'A' 'A' 'A' 'C' 'C']\n",
      " ['G' 'A' 'T' 'A' 'A' 'A' 'A']\n",
      " ['C' 'C' 'C' 'C' 'C' 'T' 'C']\n",
      " ['T' 'T' 'T' 'C' 'T' 'T' 'T']]\n"
     ]
    }
   ],
   "source": [
    "# Create a matrix of nucleotides using NumPy\n",
    "import numpy as np\n",
    "seq_matrix = np.array(sequences, dtype = \"str\").transpose()\n",
    "print(seq_matrix)"
   ]
  },
  {
   "cell_type": "code",
   "execution_count": 5,
   "metadata": {},
   "outputs": [
    {
     "name": "stdout",
     "output_type": "stream",
     "text": [
      "[[4128860 6029375 3801155 5570652]\n",
      " [6619251 7536754 5374044 6357113]\n",
      " [6029422 7209057 6488161 7209071]\n",
      " [6357092 6029363 6881388 6029410]\n",
      " [6881395 6619252 7340077 6488161]\n",
      " [6357099 6619239 6029427 7667822]\n",
      " [7340141 6029433 6881388 6029410]\n",
      " [7602293 7077993 3014771 7929968]]\n"
     ]
    }
   ],
   "source": [
    "# Initialize empty NumPy array. First column is nucleobase A, second C, third G, fourth T\n",
    "ACGT = np.empty((np.shape(seq_matrix)[0],4), dtype = \"int\")\n",
    "print(ACGT)"
   ]
  },
  {
   "cell_type": "code",
   "execution_count": 6,
   "metadata": {},
   "outputs": [
    {
     "name": "stdout",
     "output_type": "stream",
     "text": [
      "[[5 0 1 1]\n",
      " [1 0 1 5]\n",
      " [0 1 6 0]\n",
      " [0 4 3 0]\n",
      " [5 2 0 0]\n",
      " [5 0 1 1]\n",
      " [0 6 0 1]\n",
      " [0 1 0 6]]\n"
     ]
    }
   ],
   "source": [
    "# Fill in the counts\n",
    "for row in range(len(ACGT)):\n",
    "    ACGT[row][0] = (seq_matrix[row] == \"A\").sum()\n",
    "    ACGT[row][1] = (seq_matrix[row] == \"C\").sum()\n",
    "    ACGT[row][2] = (seq_matrix[row] == \"G\").sum()\n",
    "    ACGT[row][3] = (seq_matrix[row] == \"T\").sum()\n",
    "print(ACGT)"
   ]
  },
  {
   "cell_type": "code",
   "execution_count": 7,
   "metadata": {},
   "outputs": [
    {
     "name": "stdout",
     "output_type": "stream",
     "text": [
      "[0, 3, 2, 1, 0, 0, 1, 3]\n"
     ]
    }
   ],
   "source": [
    "# Get indices of max values\n",
    "ind = np.argwhere(ACGT==np.amax(ACGT,1, keepdims=True))\n",
    "ind = list(map(tuple, ind)) # put in tuple form\n",
    "# Source: https://stackoverflow.com/questions/61229657/find-index-of-max-value-in-each-row-of-2d-array\n",
    "consensus_ind = []\n",
    "for i in range(len(ind)):\n",
    "    consensus_ind.append(ind[i][1])\n",
    "print(consensus_ind)"
   ]
  },
  {
   "cell_type": "code",
   "execution_count": 8,
   "metadata": {},
   "outputs": [
    {
     "name": "stdout",
     "output_type": "stream",
     "text": [
      "['A', 'T', 'G', 'C', 'A', 'A', 'C', 'T']\n"
     ]
    }
   ],
   "source": [
    "# Use indices to create consensus sequence in list form\n",
    "transcribe = {0:\"A\",1:\"C\",2:\"G\",3:\"T\"}\n",
    "consensus_sequence = [transcribe[n] for n in consensus_ind]\n",
    "print(consensus_sequence)"
   ]
  },
  {
   "cell_type": "code",
   "execution_count": 9,
   "metadata": {},
   "outputs": [
    {
     "name": "stdout",
     "output_type": "stream",
     "text": [
      "ATGCAACT\n",
      "[[5 1 0 0 5 5 0 0]\n",
      " [0 0 1 4 2 0 6 1]\n",
      " [1 1 6 3 0 1 0 0]\n",
      " [1 5 0 0 0 1 1 6]]\n"
     ]
    }
   ],
   "source": [
    "# Write true consensus\n",
    "consensus = \"\"\n",
    "consensus = consensus.join(consensus_sequence)\n",
    "print(consensus)\n",
    "\n",
    "# Transpose the counts matrix\n",
    "ACGT = ACGT.transpose()\n",
    "print(ACGT)"
   ]
  },
  {
   "cell_type": "markdown",
   "metadata": {},
   "source": [
    "The purpose of the code below is to create a text file with the correct Rosalind formatting. The code below is intended to be finished later, it's been two full hours. -Ryan, 9:17 pm, 4/21/21"
   ]
  },
  {
   "cell_type": "code",
   "execution_count": 10,
   "metadata": {},
   "outputs": [
    {
     "name": "stdout",
     "output_type": "stream",
     "text": [
      "[[5, 1, 0, 0, 5, 5, 0, 0], [0, 0, 1, 4, 2, 0, 6, 1], [1, 1, 6, 3, 0, 1, 0, 0], [1, 5, 0, 0, 0, 1, 1, 6]]\n"
     ]
    }
   ],
   "source": [
    "# Convert to list\n",
    "ACGT = ACGT.tolist()\n",
    "print(ACGT)"
   ]
  },
  {
   "cell_type": "code",
   "execution_count": 13,
   "metadata": {},
   "outputs": [
    {
     "name": "stdout",
     "output_type": "stream",
     "text": [
      "['A: [5, 1, 0, 0, 5, 5, 0, 0] [0, 0, 1, 4, 2, 0, 6, 1] [1, 1, 6, 3, 0, 1, 0, 0] [1, 5, 0, 0, 0, 1, 1, 6]', 'C: [5, 1, 0, 0, 5, 5, 0, 0] [0, 0, 1, 4, 2, 0, 6, 1] [1, 1, 6, 3, 0, 1, 0, 0] [1, 5, 0, 0, 0, 1, 1, 6]', 'G: [5, 1, 0, 0, 5, 5, 0, 0] [0, 0, 1, 4, 2, 0, 6, 1] [1, 1, 6, 3, 0, 1, 0, 0] [1, 5, 0, 0, 0, 1, 1, 6]', 'T: [5, 1, 0, 0, 5, 5, 0, 0] [0, 0, 1, 4, 2, 0, 6, 1] [1, 1, 6, 3, 0, 1, 0, 0] [1, 5, 0, 0, 0, 1, 1, 6]']\n"
     ]
    }
   ],
   "source": [
    "output_list = [\"A: \", \"C: \", \"G: \", \"T: \"]\n",
    "for row in range(len(ACGT)):\n",
    "    for num in range(len(ACGT[0])):\n",
    "        output_list[row] = output_list[row] + \" \".join(str() for a in ACGT)\n",
    "print(output_list)\n"
   ]
  },
  {
   "cell_type": "code",
   "execution_count": 12,
   "metadata": {},
   "outputs": [],
   "source": [
    "# Open output file\n",
    "outputtxt = open(\"CONS_output.txt\",\"w\")"
   ]
  },
  {
   "cell_type": "code",
   "execution_count": null,
   "metadata": {},
   "outputs": [],
   "source": []
  }
 ],
 "metadata": {
  "kernelspec": {
   "display_name": "Python 3",
   "language": "python",
   "name": "python3"
  },
  "language_info": {
   "codemirror_mode": {
    "name": "ipython",
    "version": 3
   },
   "file_extension": ".py",
   "mimetype": "text/x-python",
   "name": "python",
   "nbconvert_exporter": "python",
   "pygments_lexer": "ipython3",
   "version": "3.8.5"
  }
 },
 "nbformat": 4,
 "nbformat_minor": 4
}

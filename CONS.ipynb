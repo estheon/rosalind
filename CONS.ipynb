{
 "cells": [
  {
   "cell_type": "code",
   "execution_count": null,
   "metadata": {},
   "outputs": [],
   "source": [
    "# Test that input works\n",
    "## APPARENTLY IT DOESNT WORK WITH THE ACTUAL INPUT FROM ROSALIND.INFO BECAUSE THE NEWLINE CHARACTERS INTERRUPT THE SEQUENCE ITSELF\n",
    "## I have to use BioPython to read the sequences for me >:(\n",
    "input_text = open(\"rosalind_cons.txt\",\"r\")\n",
    "raw_list = input_text.readlines()\n",
    "print(raw_list)"
   ]
  },
  {
   "cell_type": "code",
   "execution_count": null,
   "metadata": {},
   "outputs": [],
   "source": [
    "# Drop the FASTA IDs, we don't need them. And strip the newline character off too\n",
    "strands = []\n",
    "for i in range(1, len(raw_list), 2): # 1 is the starting index, 2 is the increment. so we're only using odd indices here\n",
    "    strands.append(raw_list[i].rstrip(\"\\n\"))\n",
    "print(strands)"
   ]
  },
  {
   "cell_type": "code",
   "execution_count": null,
   "metadata": {},
   "outputs": [],
   "source": [
    "# Turn every sequence into a list. \n",
    "sequences = []\n",
    "for i in range(len(strands)):\n",
    "    sequences.append(list((strands[i])))\n",
    "print(sequences)"
   ]
  },
  {
   "cell_type": "code",
   "execution_count": null,
   "metadata": {},
   "outputs": [],
   "source": [
    "# Create a matrix of nucleotides using NumPy\n",
    "import numpy as np\n",
    "seq_matrix = np.array(sequences, dtype = \"str\").transpose()\n",
    "print(seq_matrix)"
   ]
  },
  {
   "cell_type": "code",
   "execution_count": null,
   "metadata": {},
   "outputs": [],
   "source": [
    "# Initialize empty NumPy array. First column is nucleobase A, second C, third G, fourth T\n",
    "ACGT = np.empty((np.shape(seq_matrix)[0],4), dtype = \"int\")\n",
    "print(ACGT)"
   ]
  },
  {
   "cell_type": "code",
   "execution_count": null,
   "metadata": {},
   "outputs": [],
   "source": [
    "# Fill in the counts\n",
    "for row in range(len(ACGT)):\n",
    "    ACGT[row][0] = (seq_matrix[row] == \"A\").sum()\n",
    "    ACGT[row][1] = (seq_matrix[row] == \"C\").sum()\n",
    "    ACGT[row][2] = (seq_matrix[row] == \"G\").sum()\n",
    "    ACGT[row][3] = (seq_matrix[row] == \"T\").sum()\n",
    "print(ACGT)"
   ]
  },
  {
   "cell_type": "code",
   "execution_count": null,
   "metadata": {},
   "outputs": [],
   "source": [
    "# Get indices of max values\n",
    "ind = np.argwhere(ACGT==np.amax(ACGT,1, keepdims=True))\n",
    "ind = list(map(tuple, ind)) # put in tuple form\n",
    "# Source: https://stackoverflow.com/questions/61229657/find-index-of-max-value-in-each-row-of-2d-array\n",
    "consensus_ind = []\n",
    "for i in range(len(ind)):\n",
    "    consensus_ind.append(ind[i][1])\n",
    "print(consensus_ind)"
   ]
  },
  {
   "cell_type": "code",
   "execution_count": null,
   "metadata": {},
   "outputs": [],
   "source": [
    "# Use indices to create consensus sequence in list form\n",
    "transcribe = {0:\"A\",1:\"C\",2:\"G\",3:\"T\"}\n",
    "consensus_sequence = [transcribe[n] for n in consensus_ind]\n",
    "print(consensus_sequence)"
   ]
  },
  {
   "cell_type": "code",
   "execution_count": null,
   "metadata": {},
   "outputs": [],
   "source": [
    "# Write true consensus\n",
    "consensus = \"\"\n",
    "consensus = consensus.join(consensus_sequence)\n",
    "print(consensus)\n",
    "\n",
    "# Transpose the counts matrix\n",
    "ACGT = ACGT.transpose()\n",
    "print(ACGT)"
   ]
  },
  {
   "cell_type": "markdown",
   "metadata": {},
   "source": [
    "The purpose of the code below is to create a text file with the correct Rosalind formatting. The code below is intended to be finished later, it's been two full hours. -Ryan, 9:17 pm, 4/21/21"
   ]
  },
  {
   "cell_type": "code",
   "execution_count": null,
   "metadata": {},
   "outputs": [],
   "source": [
    "# Convert to list\n",
    "ACGT = ACGT.tolist()\n",
    "print(ACGT)"
   ]
  },
  {
   "cell_type": "code",
   "execution_count": null,
   "metadata": {},
   "outputs": [],
   "source": [
    "output_list = [\"A: \", \"C: \", \"G: \", \"T: \"]\n",
    "for row in range(len(ACGT)):\n",
    "    for num in range(len(ACGT[0])):\n",
    "        output_list[row] = output_list[row] + \" \".join(str() for a in ACGT)\n",
    "print(output_list)\n"
   ]
  },
  {
   "cell_type": "code",
   "execution_count": null,
   "metadata": {},
   "outputs": [],
   "source": [
    "# Open output file\n",
    "outputtxt = open(\"CONS_output.txt\",\"w\")"
   ]
  },
  {
   "cell_type": "code",
   "execution_count": null,
   "metadata": {},
   "outputs": [],
   "source": []
  }
 ],
 "metadata": {
  "kernelspec": {
   "display_name": "Python 3",
   "language": "python",
   "name": "python3"
  },
  "language_info": {
   "codemirror_mode": {
    "name": "ipython",
    "version": 3
   },
   "file_extension": ".py",
   "mimetype": "text/x-python",
   "name": "python",
   "nbconvert_exporter": "python",
   "pygments_lexer": "ipython3",
   "version": "3.8.5"
  }
 },
 "nbformat": 4,
 "nbformat_minor": 4
}

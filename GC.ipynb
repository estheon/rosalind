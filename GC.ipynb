{
 "cells": [
  {
   "cell_type": "code",
   "execution_count": 1,
   "metadata": {},
   "outputs": [],
   "source": [
    "# Load important packages\n",
    "import Bio\n",
    "from Bio import SeqIO, SearchIO, Entrez\n",
    "from Bio.Seq import Seq\n",
    "from Bio.SeqUtils import GC\n",
    "from Bio.Blast import NCBIWWW\n",
    "from Bio.Data import CodonTable"
   ]
  },
  {
   "cell_type": "code",
   "execution_count": 2,
   "metadata": {},
   "outputs": [
    {
     "name": "stdout",
     "output_type": "stream",
     "text": [
      "Rosalind_6404\n",
      "Rosalind_5959\n",
      "Rosalind_0808\n"
     ]
    }
   ],
   "source": [
    "# Test that BioPython can read FASTA files\n",
    "# FASTA files can easily be created by using a text editor and replacing the \".txt\" ending with \".fasta\"\n",
    "for record in SeqIO.parse(\"sample_GC.fasta\", \"fasta\"):\n",
    "    print(record.id)"
   ]
  },
  {
   "cell_type": "code",
   "execution_count": 7,
   "metadata": {},
   "outputs": [
    {
     "name": "stdout",
     "output_type": "stream",
     "text": [
      "<Bio.SeqIO.FastaIO.FastaIterator object at 0x000002E8982943A0>\n"
     ]
    }
   ],
   "source": [
    "file = SeqIO.parse(\"sample_GC.fasta\", \"fasta\")\n",
    "print(file)"
   ]
  },
  {
   "cell_type": "code",
   "execution_count": 8,
   "metadata": {},
   "outputs": [
    {
     "name": "stdout",
     "output_type": "stream",
     "text": [
      "('Rosalind_0808', 60.91954022988506)\n"
     ]
    }
   ],
   "source": [
    "# (r.id, GC(r.seq)) is what we are looking for: the ID of the seq with most GC content, and the GC %\n",
    "# key=lambda x: x[1] means that max() is going to take the maximum BASED ON THE SECOND ELEMENT, GC(r.seq), as indicated by x[1]\n",
    "# without key = lambda x, max() would take the maximum based on the first element, which would be invalid\n",
    "sample = max(((r.id, GC(r.seq)) for r in file), key=lambda x: x[1])\n",
    "print(sample)"
   ]
  },
  {
   "cell_type": "code",
   "execution_count": 5,
   "metadata": {},
   "outputs": [],
   "source": [
    "# Testing writing capabilities\n",
    "o_s = open(\"GC_o_sample.txt\", \"a\")\n",
    "for r in SeqIO.parse(\"sample_GC.fasta\", \"fasta\"):\n",
    "    o_s.write(str(r.id) + \"\\n\" + str(GC(r.seq)) + \"\\n\")\n",
    "o_s.close()"
   ]
  },
  {
   "cell_type": "code",
   "execution_count": 18,
   "metadata": {},
   "outputs": [
    {
     "name": "stdout",
     "output_type": "stream",
     "text": [
      "('Rosalind_8662', 51.4218009478673)\n",
      "<class 'tuple'>\n"
     ]
    }
   ],
   "source": [
    "## Actual code for output\n",
    "real = max(((r.id, GC(r.seq)) for r in SeqIO.parse(\"rosalind_GC.fasta\",\"fasta\")), key=lambda x: x[1])\n",
    "print(real)\n",
    "# Notice that the output is a tuple: a list that is ordered, and cannot be changed.\n",
    "# When write() is used on a tuple, it literally writes the tuple (as printed below from print())\n",
    "print(type(real))\n",
    "o = open(\"GC_o.txt\", \"w\")\n",
    "# To write in the correct format instead of literally writing the tuple, format() has to be used\n",
    "# The asterisk lets Python know that the placeholders should be filled by the values of the tuple\n",
    "# The first placeholder {} is substituted by the first value\n",
    "# The second {} is substituted by the next value\n",
    "o.write(\"{}\\n{:.3f}\".format(*real))\n",
    "o.close()"
   ]
  },
  {
   "cell_type": "code",
   "execution_count": null,
   "metadata": {},
   "outputs": [],
   "source": []
  }
 ],
 "metadata": {
  "kernelspec": {
   "display_name": "Python 3",
   "language": "python",
   "name": "python3"
  },
  "language_info": {
   "codemirror_mode": {
    "name": "ipython",
    "version": 3
   },
   "file_extension": ".py",
   "mimetype": "text/x-python",
   "name": "python",
   "nbconvert_exporter": "python",
   "pygments_lexer": "ipython3",
   "version": "3.8.5"
  }
 },
 "nbformat": 4,
 "nbformat_minor": 4
}

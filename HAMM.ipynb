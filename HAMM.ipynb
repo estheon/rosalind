{
 "cells": [
  {
   "cell_type": "markdown",
   "metadata": {},
   "source": [
    "Hamming distance is the minimum number of substitutions needed to change one string into the other. It is only applicable to two strings of the same length."
   ]
  },
  {
   "cell_type": "code",
   "execution_count": 1,
   "metadata": {},
   "outputs": [],
   "source": [
    "# From wikipedia.org\n",
    "def hamming_distance(string1, string2):\n",
    "\tdist_counter = 0\n",
    "\tfor n in range(len(string1)):\n",
    "\t\tif string1[n] != string2[n]:\n",
    "\t\t\tdist_counter += 1\n",
    "\treturn dist_counter"
   ]
  },
  {
   "cell_type": "markdown",
   "metadata": {},
   "source": [
    "Testing sample text"
   ]
  },
  {
   "cell_type": "code",
   "execution_count": 2,
   "metadata": {},
   "outputs": [
    {
     "name": "stdout",
     "output_type": "stream",
     "text": [
      "GAGCCTACTAACGGGAT\n",
      "CATCGTAATGACGGCCT\n"
     ]
    }
   ],
   "source": [
    "import linecache\n",
    "s1 = linecache.getline(\"hamm_sample.txt\", 1)\n",
    "s1 = s1.replace(\"\\n\",\"\")\n",
    "s2 = linecache.getline(\"hamm_sample.txt\", 2)\n",
    "s2 = s2.replace(\"\\n\",\"\")\n",
    "print(s1)\n",
    "print(s2)"
   ]
  },
  {
   "cell_type": "code",
   "execution_count": 3,
   "metadata": {},
   "outputs": [
    {
     "name": "stdout",
     "output_type": "stream",
     "text": [
      "ATCACAGGCTTCTAGTTAAGGCGCCTCATAAGAAATTGAAACAACCACCGTTCTTAGAGGGCTGAGTAAACCGATCCGAAAGGTAATTGGCAACGTAGACTTCTGAGTTCGTTATTTAGTGACGTCCTCTTCGCGAGGGCAGCTAGGACTCATGCGATTGGCGGGTGACGGTAACCTAGGTCACAACCCGAGCGGACGGTCTCCTACGTGGTTTAGGTTGGCAGGGTGTAAGGATGACATAGGGCGTTTACAATTAGGTGGAAATCGAGCTTACGAGAGTGACGGGAATAGCATATAGGGGACGAATTAGCCTAGAGAGACAGCTTATTGGTAAACTGCTAGTCAGCAAGCGACTCCTAGCAATAGGGTTTGGAAGGAGCGGTTTTCCCCACGGACTTTCGGTTGGGTCAACAATCAGCAGCCGGGACCGGCCACCAGTCTCCGCCTAATCTTCCTGCCAGGATATAGTCTATAGCGAATCAATAGGATTCACTATCACTGCCCCAACAGGATATTGCTCCGGACCCACCGCGGGCACTAACCACCCGTTGATGCCGGAGGGCGACGCCGTTCAACCATTCCCTCTCAAATCAAGACCATCGCGTCTGCGTAATCAAATTTCGTACGTATACCCATTTTTCCTTGGATCCTTCTTATCGGCTTTAAAGCGGCGCCGCGTTATGGTTATTAATCATGAACAAATGATGTAGGGGGGTTATCGGCGTTGGTCAACATCATTATCAGAACGAGCGAAATGGATCATTATTGAGGGCGCAGTCTCGTGGGTAGCCGACAGAGTCAGGGTCACGAAAATAAGACTGTACATAGCGCCTAAGGAGTACGCCACGCCGTGATAACTATAAATCGTTGCGACCTGATAAAAGAATTCGTACTAGTCCAGAAT\n",
      "ATCCCACGCTTCTTGTTCTAGCGCCCGCGAAAACACGGAAGCAAGCACGTTTCTTGGAAAACCGATGGGGGTACTTTGAAAAATAGATGTTAAACTTGACCCGAGACTTCGACTGGAAGGGACGTAGTGATGGATAGGGTCGCCAGGAGTCTTCAGATAGCGGGGGAGCAGTGGAGTAGCTAGCATCAGTAAGGGCCGGTCTTCGATGAGGAGAGAATATGCGCGCAGCTATTACTACCAAAATCGATGTCAAATAGCCGTAACTCAAGGCCACGCGAGTGCCGATAATAGCCGCTTGATGGAGAAATCGTATTTCGCGACATTTCCGTGCTAAACGGTTATGAATCTCTGATCATCCTGCAATAAGGCATCTACGCAACGGCTTCCTGCACAAGTTTCCGTCTAAGAGCACACTCGCTAGCAGGGAAGTGTCACGAGGCACAGCCACCTCTGCTAATTGACATTGATGATAAAGCGAACTGATAGGCTTGAGGACACCCGGTACAGCAAGCTCCTTATGCTGATGATTCGCGGGCACATGCCGCTAGAACCTGTAAGACGGAGACAATGTAGAACCGTCTCCTCGTGACTGCAGAAGGCGGACACTTCAAATGGCAATTACTTACTTAAGCTGCAGGGACTGCAGAATTCGCCTATCGCGAGGGAAAGCGCGTCTCCGCGTTCTTAATAGCAAGTATCAGAGGCACCCCTGGGTCAATCGACTTTGTACAAAAAGACTATCCTACGCTGCGAATGGAATCTAAATCGCGTGCGTGCTCCGTTAAGTGTCCGATCTAGCCTCAGTCATATCGCTCTGGCCGCATATAGCGCCGATCGTGTAAGCCTGACATTCACAACTAGACCTTAGTCCGAGCCGTACACGAAATCCGCGCATGCCCCGGAT\n"
     ]
    }
   ],
   "source": [
    "s1 = linecache.getline(\"rosalind_hamm.txt\", 1)\n",
    "s1 = s1.replace(\"\\n\",\"\")\n",
    "s2 = linecache.getline(\"rosalind_hamm.txt\", 2)\n",
    "s2 = s2.replace(\"\\n\",\"\")\n",
    "print(s1)\n",
    "print(s2)"
   ]
  },
  {
   "cell_type": "code",
   "execution_count": 5,
   "metadata": {},
   "outputs": [],
   "source": [
    "o = open(\"HAMM_o.txt\",\"w\")\n",
    "o.write(str(hamming_distance(s1,s2)))\n",
    "o.close()"
   ]
  },
  {
   "cell_type": "code",
   "execution_count": null,
   "metadata": {},
   "outputs": [],
   "source": []
  }
 ],
 "metadata": {
  "kernelspec": {
   "display_name": "Python 3",
   "language": "python",
   "name": "python3"
  },
  "language_info": {
   "codemirror_mode": {
    "name": "ipython",
    "version": 3
   },
   "file_extension": ".py",
   "mimetype": "text/x-python",
   "name": "python",
   "nbconvert_exporter": "python",
   "pygments_lexer": "ipython3",
   "version": "3.8.5"
  }
 },
 "nbformat": 4,
 "nbformat_minor": 4
}

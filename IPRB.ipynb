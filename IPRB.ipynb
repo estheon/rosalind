{
 "cells": [
  {
   "cell_type": "markdown",
   "metadata": {},
   "source": [
    "# Prompt"
   ]
  },
  {
   "cell_type": "markdown",
   "metadata": {},
   "source": [
    "Let there be three kinds of individuals: *k*, *m*, *n*.  "
   ]
  },
  {
   "cell_type": "markdown",
   "metadata": {},
   "source": [
    "*k* is homozygous dominant.   \n",
    "*m* is heterozygous.   \n",
    "*n* is homozygous recessive.   "
   ]
  },
  {
   "cell_type": "markdown",
   "metadata": {},
   "source": [
    "Calculate the probability that two randomly selected individuals will produce a child with a dominant trait."
   ]
  },
  {
   "cell_type": "markdown",
   "metadata": {},
   "source": [
    "# Solution"
   ]
  },
  {
   "cell_type": "markdown",
   "metadata": {},
   "source": [
    "The dominant phenotype, rather than a specific genotype (e.g. homozygous dominant) is what matters the most in this computational problem. Therefore, we can think of the mating of two random individuals as producing two outcomes: a child with the **dominant** phenotype, and a child with the **recessive** phenotype. All probabilities of the outcomes of a given event sum to 1, so in this case it might be easier to calculate P(dominant phenotype) with 1-P(recessive phenotype). The difficulty of calculating the probability of the dominant phenotype without the use of this subtraction trick will be evident when drawing the probability tree."
   ]
  },
  {
   "cell_type": "code",
   "execution_count": 1,
   "metadata": {},
   "outputs": [
    {
     "name": "stdout",
     "output_type": "stream",
     "text": [
      "25\n",
      "21\n",
      "30\n",
      "76\n"
     ]
    }
   ],
   "source": [
    "import re\n",
    "\n",
    "# Set inputs\n",
    "k = 25\n",
    "m = 21\n",
    "n = 30\n",
    "individuals = [k,m,n]\n",
    "# t for total, this is important for subsequent calculations b/c individuals cannot be selected twice...\n",
    "t = k + m + n\n",
    "\n",
    "for i in individuals:\n",
    "    print(i)\n",
    "    \n",
    "print(t)"
   ]
  },
  {
   "cell_type": "code",
   "execution_count": 2,
   "metadata": {},
   "outputs": [
    {
     "name": "stdout",
     "output_type": "stream",
     "text": [
      "0.01842105263157895\n"
     ]
    }
   ],
   "source": [
    "# Calculate the probabilities of the crosses\n",
    "mm = 0.25*(m/t)*((m-1)/(t-1))\n",
    "print(mm)"
   ]
  },
  {
   "cell_type": "code",
   "execution_count": 3,
   "metadata": {},
   "outputs": [
    {
     "name": "stdout",
     "output_type": "stream",
     "text": [
      "0.05526315789473685\n"
     ]
    }
   ],
   "source": [
    "mn = 0.50*(m/t)*(n/(t-1))\n",
    "print(mn)"
   ]
  },
  {
   "cell_type": "code",
   "execution_count": 4,
   "metadata": {},
   "outputs": [
    {
     "name": "stdout",
     "output_type": "stream",
     "text": [
      "0.05526315789473685\n"
     ]
    }
   ],
   "source": [
    "nm = 0.50*(n/t)*(m/(t-1))\n",
    "print(nm)"
   ]
  },
  {
   "cell_type": "code",
   "execution_count": 5,
   "metadata": {},
   "outputs": [
    {
     "name": "stdout",
     "output_type": "stream",
     "text": [
      "0.15263157894736842\n"
     ]
    }
   ],
   "source": [
    "nn = (n/t)*((n-1)/(t-1))\n",
    "print(nn)"
   ]
  },
  {
   "cell_type": "code",
   "execution_count": 6,
   "metadata": {},
   "outputs": [
    {
     "name": "stdout",
     "output_type": "stream",
     "text": [
      "0.28157894736842104\n",
      "0.718421052631579\n"
     ]
    }
   ],
   "source": [
    "# Sum probabilites of crosses\n",
    "recessive = mm + mn + nm + nn\n",
    "print(recessive)\n",
    "# Take 1-P to calculate dominant probability\n",
    "dominant = 1-recessive\n",
    "print(dominant)"
   ]
  },
  {
   "cell_type": "code",
   "execution_count": 7,
   "metadata": {},
   "outputs": [],
   "source": [
    "o = open(\"IPRB_o.txt\",\"w\")\n",
    "o.write(\"{:.5f}\".format(dominant))\n",
    "o.close()"
   ]
  },
  {
   "cell_type": "code",
   "execution_count": 10,
   "metadata": {},
   "outputs": [
    {
     "name": "stdout",
     "output_type": "stream",
     "text": [
      "[0.01842105263157895, 0.05526315789473685, 0.05526315789473685, 0.15263157894736842]\n",
      "0.28157894736842104\n",
      "0.01842105263157895\n",
      "0.05526315789473685\n",
      "0.05526315789473685\n",
      "0.15263157894736842\n"
     ]
    }
   ],
   "source": [
    "cross = [mm, mn, nm, nn]\n",
    "print(cross)\n",
    "print(sum(cross))\n",
    "for i in cross:\n",
    "    print(i)"
   ]
  },
  {
   "cell_type": "code",
   "execution_count": null,
   "metadata": {},
   "outputs": [],
   "source": []
  }
 ],
 "metadata": {
  "kernelspec": {
   "display_name": "Python 3",
   "language": "python",
   "name": "python3"
  },
  "language_info": {
   "codemirror_mode": {
    "name": "ipython",
    "version": 3
   },
   "file_extension": ".py",
   "mimetype": "text/x-python",
   "name": "python",
   "nbconvert_exporter": "python",
   "pygments_lexer": "ipython3",
   "version": "3.8.5"
  }
 },
 "nbformat": 4,
 "nbformat_minor": 4
}

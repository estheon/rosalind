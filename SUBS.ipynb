{
 "cells": [
  {
   "cell_type": "code",
   "execution_count": 1,
   "metadata": {},
   "outputs": [
    {
     "name": "stdout",
     "output_type": "stream",
     "text": [
      "TCCGTTCCGATAACCATACTATTCAATAAACCATACGAGGTATTCACCATACCACCATACCGCTGGGTACCATACTAAGACCATACCATAATTTTATACCATACACCATACACCATACTGACCATACCTGACCCGAAAACCTTATGACCATACTAAAACCATACCACCATACATCCACCATACGACCATACACCATACGGTTGGTTACCATACACCATACGAGAGCGACATCCATAACCATACACCATACAGCTACACCATACAGCGTACACCATACCTCTACCATACTACCATACGAAACCATACACCATACCACCATACTATCACCATACACCATACCGAAAAAACCATACAGAGACACCATACACTACCATACACCATACACCGGGCATTGCACCATACTTTAGTCGACGTTCACCATACCAGATACCATACAACCATACGTAGAACCACCATACAATACCATACAAGGATACCATACAACACCATACGGTTATACCATACACCATACCACGACCATACGTGACCATACTACCATACCAGACCATACCTACCATACCCACAACCATACTACCATACCTACCATACACCATACAACCATACTGGCCTACCATACGATACCATACGCGCAGACCATACGCGACCATACAACCATACCGACCATACACCATACAACGACCATACATGACCATACGCACCATACCCAACCATACGACCATACAACCATACACACCATACAACCATACACCATACTTACCATACACCATACGGACAACCATACGTTGGTCACCATACCTTTACCATACCCACCATACACCATACCGAACCATACAGATACCATACTAACACCATACTACCATACTACCATAC\n",
      "ACCATACAC\n"
     ]
    }
   ],
   "source": [
    "# This imports the \"regular expressions\" library\n",
    "import re\n",
    "import linecache\n",
    "import numpy as np\n",
    "\n",
    "s = linecache.getline(\"rosalind_subs.txt\", 1)\n",
    "s = s.replace(\"\\n\",\"\")\n",
    "t = linecache.getline(\"rosalind_subs.txt\", 2)\n",
    "t = t.replace(\"\\n\",\"\")\n",
    "print(s)\n",
    "print(t)"
   ]
  },
  {
   "cell_type": "code",
   "execution_count": 2,
   "metadata": {},
   "outputs": [
    {
     "name": "stdout",
     "output_type": "stream",
     "text": [
      "[ 98 105 185 207 237 300 326 360 370 377 498 582 660 723 740 756 809]\n"
     ]
    }
   ],
   "source": [
    "# Line 2 finds all iterations including overlap, outputs the indexes\n",
    "indexes = [i.start() for i in re.finditer('(?={0})'.format(re.escape(t)), s)] \n",
    "# Use NumPy for the addition operation that follows\n",
    "indexes = np.array(indexes)\n",
    "# Python is index 0  but Rosalind accepts index 1, so all indexes must be bumped up 1\n",
    "indexes = indexes + 1\n",
    "print(indexes)"
   ]
  },
  {
   "cell_type": "code",
   "execution_count": 3,
   "metadata": {},
   "outputs": [
    {
     "name": "stdout",
     "output_type": "stream",
     "text": [
      "[98, 105, 185, 207, 237, 300, 326, 360, 370, 377, 498, 582, 660, 723, 740, 756, 809]\n"
     ]
    }
   ],
   "source": [
    "# Turn NumPy array back to a list\n",
    "indexes = np.ndarray.tolist(indexes)\n",
    "print(indexes)"
   ]
  },
  {
   "cell_type": "code",
   "execution_count": 4,
   "metadata": {},
   "outputs": [
    {
     "name": "stdout",
     "output_type": "stream",
     "text": [
      "[98, 105, 185, 207, 237, 300, 326, 360, 370, 377, 498, 582, 660, 723, 740, 756, 809]\n"
     ]
    }
   ],
   "source": [
    "# Convert type\n",
    "indexes = str(indexes)\n",
    "print(indexes)"
   ]
  },
  {
   "cell_type": "code",
   "execution_count": 5,
   "metadata": {},
   "outputs": [
    {
     "name": "stdout",
     "output_type": "stream",
     "text": [
      "98 105 185 207 237 300 326 360 370 377 498 582 660 723 740 756 809\n"
     ]
    }
   ],
   "source": [
    "# Manipulate string into Rosalind-friendly format\n",
    "indexes = indexes.replace(\",\",\"\")\n",
    "indexes = indexes[1:-1]\n",
    "print(indexes)"
   ]
  },
  {
   "cell_type": "code",
   "execution_count": 6,
   "metadata": {},
   "outputs": [],
   "source": [
    "# WRite output file\n",
    "o = open(\"SUBS_o.txt\",\"w\")\n",
    "o.write(indexes)\n",
    "o.close()"
   ]
  },
  {
   "cell_type": "code",
   "execution_count": null,
   "metadata": {},
   "outputs": [],
   "source": []
  }
 ],
 "metadata": {
  "kernelspec": {
   "display_name": "Python 3",
   "language": "python",
   "name": "python3"
  },
  "language_info": {
   "codemirror_mode": {
    "name": "ipython",
    "version": 3
   },
   "file_extension": ".py",
   "mimetype": "text/x-python",
   "name": "python",
   "nbconvert_exporter": "python",
   "pygments_lexer": "ipython3",
   "version": "3.8.5"
  }
 },
 "nbformat": 4,
 "nbformat_minor": 4
}
